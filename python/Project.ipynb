{
 "cells": [
  {
   "cell_type": "code",
   "execution_count": 1,
   "metadata": {
    "collapsed": false,
    "deletable": true,
    "editable": true
   },
   "outputs": [
    {
     "name": "stdout",
     "output_type": "stream",
     "text": [
      "Give name of the XML File to load settings :settings.xml\n",
      "(100.0, 1.0)\n"
     ]
    }
   ],
   "source": [
    "import example\n",
    "import numpy as np\n",
    "import h5py\n",
    "import matplotlib.pyplot as plt\n",
    "import dexml\n",
    "from dexml import fields\n",
    "import lxml.etree as etree\n",
    "\n",
    "f = raw_input(\"Give name of the XML File to load settings :\") \n",
    "\n",
    "class record(dexml.Model):\n",
    "\tname = fields.String(tagname=\"name\")\n",
    "\tinterval = fields.Float(tagname=\"interval\")\n",
    "\trow_index = fields.Integer(tagname=\"row_index\")\n",
    "\tcol_index = fields.Integer(tagname=\"col_index\")\n",
    "\n",
    "class settings(dexml.Model):\n",
    "\ttotal_time = fields.Float(tagname=\"total_time\")\n",
    "\ttimestep = fields.Float(tagname=\"timestep\")\n",
    "\trecords = fields.List(record)\n",
    "\n",
    "#parse XML File\n",
    "tree = etree.parse(f)\n",
    "xmlstr = etree.tostring(tree, encoding='utf8', method='xml', pretty_print = True)\n",
    "s = settings.parse(xmlstr)\n",
    "print(s.total_time, s.timestep)"
   ]
  },
  {
   "cell_type": "code",
   "execution_count": 2,
   "metadata": {
    "collapsed": false,
    "deletable": true,
    "editable": true
   },
   "outputs": [
    {
     "name": "stdout",
     "output_type": "stream",
     "text": [
      "Give number of Records :1\n",
      "Record :\n",
      "name :rec1\n",
      "interval :150\n",
      "row index :1\n",
      "column index :1\n"
     ]
    }
   ],
   "source": [
    "#create vector of Records\n",
    "nr = len(s.records)\n",
    "rec = example.RecordVector(nr)\n",
    "for x in range (0,nr):\n",
    "\tprint(\"Record :\")\n",
    "\trec[x].set_rec_name(str(s.records[x].name))\n",
    "\trec[x].set_rec_interval(s.records[x].interval)\n",
    "\trec[x].set_rec_row_index(s.records[x].row_index)\n",
    "\trec[x].set_rec_col_index(s.records[x].col_index)"
   ]
  },
  {
   "cell_type": "code",
   "execution_count": 3,
   "metadata": {
    "collapsed": false,
    "deletable": true,
    "editable": true
   },
   "outputs": [
    {
     "name": "stdout",
     "output_type": "stream",
     "text": [
      "Give number of Materials :2\n",
      "('Material ', 1, ' :')\n",
      "name :vaccuum\n",
      "epsilon r :1\n",
      "mu r :2\n",
      "sigma :3\n",
      "('Material ', 2, ' :')\n",
      "name :active region\n",
      "epsilon r :4\n",
      "mu r :5\n",
      "sigma :6\n"
     ]
    }
   ],
   "source": [
    "#create vector of Materials\n",
    "n = int(raw_input(\"Give number of Materials :\"))\n",
    "mv = example.MaterialVector(n)\n",
    "for x in range (0,n):\n",
    "\tprint(\"Material \",x+1,\" :\")\n",
    "\tmv[x].set_m_name(raw_input(\"name :\"))\n",
    "\tmv[x].set_m_epsilon_r(float(raw_input(\"epsilon r :\")))\n",
    "\tmv[x].set_m_mu_r(float(raw_input(\"mu r :\")))\n",
    "\tmv[x].set_m_sigma(float(raw_input(\"sigma :\")))"
   ]
  },
  {
   "cell_type": "code",
   "execution_count": 4,
   "metadata": {
    "collapsed": false,
    "deletable": true,
    "editable": true
   },
   "outputs": [
    {
     "name": "stdout",
     "output_type": "stream",
     "text": [
      "Give number of Regions :3\n",
      "('Region ', 1, ' :')\n",
      "name :reg1\n",
      "start :0\n",
      "end :50\n",
      "material index :1\n",
      "('Region ', 2, ' :')\n",
      "name :reg2\n",
      "start :50\n",
      "end :100\n",
      "material index :2\n",
      "('Region ', 3, ' :')\n",
      "name :reg3\n",
      "start :100\n",
      "end :150\n",
      "material index :1\n"
     ]
    }
   ],
   "source": [
    "#create vector of Regions\n",
    "n = int(raw_input(\"Give number of Regions :\"))\n",
    "rv = example.RegionVector(n)\n",
    "for x in range (0,n):\n",
    "\tprint(\"Region \",x+1,\" :\")\n",
    "\trv[x].set_reg_name(raw_input(\"name :\"))\n",
    "\trv[x].set_reg_x_start(float(raw_input(\"start :\")))\n",
    "\trv[x].set_reg_x_end(float(raw_input(\"end :\")))\n",
    "\trv[x].set_reg_material_index(int(raw_input(\"material index :\")))"
   ]
  },
  {
   "cell_type": "code",
   "execution_count": 5,
   "metadata": {
    "collapsed": false,
    "deletable": true,
    "editable": true
   },
   "outputs": [
    {
     "name": "stdout",
     "output_type": "stream",
     "text": [
      "Give name of the Device :device\n"
     ]
    },
    {
     "data": {
      "text/plain": [
       "<example.RegionVector; proxy of <Swig Object of type 'std::vector< Region > *' at 0x7fb8925c3870> >"
      ]
     },
     "execution_count": 5,
     "metadata": {},
     "output_type": "execute_result"
    }
   ],
   "source": [
    "#create Device\n",
    "dev = example.Device()\n",
    "dev.set_d_name(raw_input(\"Give name of the Device :\"))\n",
    "dev.set_d_materials(mv)\n",
    "dev.set_d_regions(rv)"
   ]
  },
  {
   "cell_type": "code",
   "execution_count": 6,
   "metadata": {
    "collapsed": false,
    "deletable": true,
    "editable": true
   },
   "outputs": [
    {
     "name": "stdout",
     "output_type": "stream",
     "text": [
      "Scenario :\n",
      "name :scenario\n"
     ]
    },
    {
     "data": {
      "text/plain": [
       "<example.RecordVector; proxy of <Swig Object of type 'std::vector< Record > *' at 0x7fb8925c3c60> >"
      ]
     },
     "execution_count": 6,
     "metadata": {},
     "output_type": "execute_result"
    }
   ],
   "source": [
    "#create instance of Scenario\n",
    "print(\"Scenario :\")\n",
    "scen = example.Scenario()\n",
    "scen.set_s_name(raw_input(\"name :\"))\n",
    "scen.set_s_total_time(s.total_time)\n",
    "scen.set_s_timestep(s.timestep)\n",
    "scen.set_s_records(rec)"
   ]
  },
  {
   "cell_type": "code",
   "execution_count": 7,
   "metadata": {
    "collapsed": false,
    "deletable": true,
    "editable": true
   },
   "outputs": [
    {
     "name": "stdout",
     "output_type": "stream",
     "text": [
      "100\n",
      "Give name of the Result :Population of first level\n",
      "100\n"
     ]
    }
   ],
   "source": [
    "#create Results\n",
    "t = np.linspace(0,s.total_time,s.total_time/s.timestep)\n",
    "print(len(t))\n",
    "result = example.simul(dev, scen)\n",
    "for x in range (0,nr):\n",
    "\tresult[x].name = raw_input(\"Give name of the Result :\")\n",
    "\tprint(len(np.array(result[x].get_r_data())))"
   ]
  },
  {
   "cell_type": "code",
   "execution_count": 8,
   "metadata": {
    "collapsed": true,
    "deletable": true,
    "editable": true
   },
   "outputs": [],
   "source": [
    "#save in hdf5 File\n",
    "with h5py.File(\"f.h5\", \"w\") as hdf:\n",
    "\tresultat = hdf.create_group('Resultat')\t\n",
    "\tfor x in range (0,nr):\n",
    "\t\tdataset = resultat.create_dataset(\"data\", data = np.array(result[x].get_r_data()), compression = 'gzip', compression_opts = 9)\n",
    "\t\tdataset.attrs[\"name\"] = result[x].get_r_name()\n",
    "\tresultat.attrs[\"total time\"] = s.total_time\n",
    "\tresultat.attrs[\"time step\"] = s.timestep"
   ]
  },
  {
   "cell_type": "code",
   "execution_count": 9,
   "metadata": {
    "collapsed": false,
    "deletable": true,
    "editable": true
   },
   "outputs": [
    {
     "name": "stdout",
     "output_type": "stream",
     "text": [
      "List of datasets in this file : \n",
      "data\n",
      "Metadata : \n",
      "[u'total time', u'time step']\n",
      "[100.0, 1.0]\n"
     ]
    }
   ],
   "source": [
    "#load from hdf5 File\n",
    "with h5py.File(\"f.h5\", \"r\") as hdf:\n",
    "\tprint(\"List of datasets in this file : \")\n",
    "\tr = hdf.get('Resultat')\t\n",
    "\tfor i in r.keys():\n",
    "\t\tprint(i)\n",
    "\tdata = r.get(\"data\")\n",
    "\tdataset1 = np.array(data)\n",
    "\tprint('Metadata : ')\n",
    "\tprint(list(r.attrs.keys()))\n",
    "\tprint(list(r.attrs.values()))"
   ]
  },
  {
   "cell_type": "code",
   "execution_count": 10,
   "metadata": {
    "collapsed": false,
    "deletable": true,
    "editable": true
   },
   "outputs": [
    {
     "data": {
      "image/png": "[encoded data removed]",
      "text/plain": [
       "<matplotlib.figure.Figure at 0x7fb8925ba5d0>"
      ]
     },
     "metadata": {},
     "output_type": "display_data"
    }
   ],
   "source": [
    "#plot results\n",
    "for x in range (0,nr):\n",
    "\tplt.plot(t,np.array(result[x].get_r_data()))\n",
    "\tplt.axis([0,5,0,100])\n",
    "\tplt.show()"
   ]
  },
  {
   "cell_type": "code",
   "execution_count": null,
   "metadata": {
    "collapsed": true,
    "deletable": true,
    "editable": true
   },
   "outputs": [],
   "source": []
  }
 ],
 "metadata": {
  "kernelspec": {
   "display_name": "Python 2",
   "language": "python",
   "name": "python2"
  },
  "language_info": {
   "codemirror_mode": {
    "name": "ipython",
    "version": 2
   },
   "file_extension": ".py",
   "mimetype": "text/x-python",
   "name": "python",
   "nbconvert_exporter": "python",
   "pygments_lexer": "ipython2",
   "version": "2.7.12"
  }
 },
 "nbformat": 4,
 "nbformat_minor": 2
}
