{
 "cells": [
  {
   "cell_type": "code",
   "execution_count": 26,
   "metadata": {
    "collapsed": false
   },
   "outputs": [],
   "source": [
    "import numpy as np\n",
    "import h5py"
   ]
  },
  {
   "cell_type": "code",
   "execution_count": 27,
   "metadata": {
    "collapsed": true
   },
   "outputs": [],
   "source": [
    "matrix1 = np.random.random(size =(1000,1000))\n",
    "matrix2 = np.random.random(size =(1000,1000))"
   ]
  },
  {
   "cell_type": "code",
   "execution_count": 28,
   "metadata": {
    "collapsed": true
   },
   "outputs": [],
   "source": [
    "with h5py.File(\"/home/kthiri/Desktop/Data.h5\", \"w\") as hdf:\n",
    "    dataset1 = hdf.create_dataset(\"dataset 1\", data = matrix1, compression = 'gzip', compression_opts = 9)\n",
    "    dataset2 = hdf.create_dataset(\"dataset 2\", data = matrix2, compression = 'gzip', compression_opts = 9)\n",
    "    \n",
    "    dataset1.attrs[\"name\"] = \"name\"\n",
    "    dataset1.attrs[\"meta data\"] = \"additional data\""
   ]
  },
  {
   "cell_type": "code",
   "execution_count": 30,
   "metadata": {
    "collapsed": false
   },
   "outputs": [
    {
     "name": "stdout",
     "output_type": "stream",
     "text": [
      "List of datasets in this file : \n",
      "dataset 1\n",
      "dataset 2\n",
      "Shape of Dataset 1 : \n",
      "(1000, 1000)\n",
      "[u'name', u'meta data']\n"
     ]
    }
   ],
   "source": [
    "with h5py.File(\"/home/kthiri/Desktop/Data.h5\", \"r\") as hdf:\n",
    "    \n",
    "    print(\"List of datasets in this file : \")\n",
    "    for i in hdf.keys():\n",
    "        print(i)\n",
    "    data = hdf.get(\"dataset 1\")\n",
    "    dataset1 = np.array(data)\n",
    "    print('Shape of Dataset 1 : ')\n",
    "    print(dataset1.shape)\n",
    "    k = list(data.attrs.keys())\n",
    "    v = list(data.attrs.values())\n",
    "    print(k)"
   ]
  },
  {
   "cell_type": "code",
   "execution_count": null,
   "metadata": {
    "collapsed": true
   },
   "outputs": [],
   "source": []
  }
 ],
 "metadata": {
  "kernelspec": {
   "display_name": "Python 2",
   "language": "python",
   "name": "python2"
  },
  "language_info": {
   "codemirror_mode": {
    "name": "ipython",
    "version": 2
   },
   "file_extension": ".py",
   "mimetype": "text/x-python",
   "name": "python",
   "nbconvert_exporter": "python",
   "pygments_lexer": "ipython2",
   "version": "2.7.12"
  }
 },
 "nbformat": 4,
 "nbformat_minor": 2
}
