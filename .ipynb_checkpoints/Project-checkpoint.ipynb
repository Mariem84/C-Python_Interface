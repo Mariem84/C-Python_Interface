{
 "cells": [
  {
   "cell_type": "code",
   "execution_count": 1,
   "metadata": {
    "collapsed": false,
    "deletable": true,
    "editable": true
   },
   "outputs": [
    {
     "name": "stdout",
     "output_type": "stream",
     "text": [
      "Give name of the XML File to load settings :\n"
     ]
    },
    {
     "ename": "IOError",
     "evalue": "Error reading file '': failed to load external entity \"\"",
     "output_type": "error",
     "traceback": [
      "\u001b[0;31m---------------------------------------------------------------------------\u001b[0m",
      "\u001b[0;31mIOError\u001b[0m                                   Traceback (most recent call last)",
      "\u001b[0;32m<ipython-input-1-1a8a1a00bc8e>\u001b[0m in \u001b[0;36m<module>\u001b[0;34m()\u001b[0m\n\u001b[1;32m     15\u001b[0m \u001b[0;34m\u001b[0m\u001b[0m\n\u001b[1;32m     16\u001b[0m \u001b[0;31m#parse XML File\u001b[0m\u001b[0;34m\u001b[0m\u001b[0;34m\u001b[0m\u001b[0m\n\u001b[0;32m---> 17\u001b[0;31m \u001b[0mtree\u001b[0m \u001b[0;34m=\u001b[0m \u001b[0metree\u001b[0m\u001b[0;34m.\u001b[0m\u001b[0mparse\u001b[0m\u001b[0;34m(\u001b[0m\u001b[0mf\u001b[0m\u001b[0;34m)\u001b[0m\u001b[0;34m\u001b[0m\u001b[0m\n\u001b[0m\u001b[1;32m     18\u001b[0m \u001b[0mxmlstr\u001b[0m \u001b[0;34m=\u001b[0m \u001b[0metree\u001b[0m\u001b[0;34m.\u001b[0m\u001b[0mtostring\u001b[0m\u001b[0;34m(\u001b[0m\u001b[0mtree\u001b[0m\u001b[0;34m,\u001b[0m \u001b[0mencoding\u001b[0m\u001b[0;34m=\u001b[0m\u001b[0;34m'utf8'\u001b[0m\u001b[0;34m,\u001b[0m \u001b[0mmethod\u001b[0m\u001b[0;34m=\u001b[0m\u001b[0;34m'xml'\u001b[0m\u001b[0;34m,\u001b[0m \u001b[0mpretty_print\u001b[0m \u001b[0;34m=\u001b[0m \u001b[0mTrue\u001b[0m\u001b[0;34m)\u001b[0m\u001b[0;34m\u001b[0m\u001b[0m\n\u001b[1;32m     19\u001b[0m \u001b[0ms\u001b[0m \u001b[0;34m=\u001b[0m \u001b[0msettings\u001b[0m\u001b[0;34m.\u001b[0m\u001b[0mparse\u001b[0m\u001b[0;34m(\u001b[0m\u001b[0mxmlstr\u001b[0m\u001b[0;34m)\u001b[0m\u001b[0;34m\u001b[0m\u001b[0m\n",
      "\u001b[0;32msrc/lxml/lxml.etree.pyx\u001b[0m in \u001b[0;36mlxml.etree.parse (src/lxml/lxml.etree.c:85131)\u001b[0;34m()\u001b[0m\n",
      "\u001b[0;32msrc/lxml/parser.pxi\u001b[0m in \u001b[0;36mlxml.etree._parseDocument (src/lxml/lxml.etree.c:124005)\u001b[0;34m()\u001b[0m\n",
      "\u001b[0;32msrc/lxml/parser.pxi\u001b[0m in \u001b[0;36mlxml.etree._parseDocumentFromURL (src/lxml/lxml.etree.c:124374)\u001b[0;34m()\u001b[0m\n",
      "\u001b[0;32msrc/lxml/parser.pxi\u001b[0m in \u001b[0;36mlxml.etree._parseDocFromFile (src/lxml/lxml.etree.c:123169)\u001b[0;34m()\u001b[0m\n",
      "\u001b[0;32msrc/lxml/parser.pxi\u001b[0m in \u001b[0;36mlxml.etree._BaseParser._parseDocFromFile (src/lxml/lxml.etree.c:117533)\u001b[0;34m()\u001b[0m\n",
      "\u001b[0;32msrc/lxml/parser.pxi\u001b[0m in \u001b[0;36mlxml.etree._ParserContext._handleParseResultDoc (src/lxml/lxml.etree.c:110510)\u001b[0;34m()\u001b[0m\n",
      "\u001b[0;32msrc/lxml/parser.pxi\u001b[0m in \u001b[0;36mlxml.etree._handleParseResult (src/lxml/lxml.etree.c:112276)\u001b[0;34m()\u001b[0m\n",
      "\u001b[0;32msrc/lxml/parser.pxi\u001b[0m in \u001b[0;36mlxml.etree._raiseParseError (src/lxml/lxml.etree.c:111078)\u001b[0;34m()\u001b[0m\n",
      "\u001b[0;31mIOError\u001b[0m: Error reading file '': failed to load external entity \"\""
     ]
    }
   ],
   "source": [
    "import example\n",
    "import numpy as np\n",
    "import h5py\n",
    "import matplotlib.pyplot as plt\n",
    "import dexml\n",
    "from dexml import fields\n",
    "import lxml.etree as etree\n",
    "\n",
    "f = raw_input(\"Give name of the XML File to load settings :\") \n",
    "\n",
    "class settings(dexml.Model):\n",
    "\ttotal_time = fields.Float(tagname=\"total_time\")\n",
    "\ttimestep = fields.Float(tagname=\"timestep\")\n",
    "\t\n",
    "\n",
    "#parse XML File\n",
    "tree = etree.parse(f)\n",
    "xmlstr = etree.tostring(tree, encoding='utf8', method='xml', pretty_print = True)\n",
    "s = settings.parse(xmlstr)\n",
    "print(s.total_time, s.timestep)"
   ]
  },
  {
   "cell_type": "code",
   "execution_count": null,
   "metadata": {
    "collapsed": true
   },
   "outputs": [],
   "source": [
    "#create vector of Records\n",
    "nr = int(raw_input(\"Give number of Records :\"))\n",
    "rec = example.RecordVector(nr)\n",
    "for x in range (0,nr):\n",
    "\tprint(\"Record :\")\n",
    "\trec[x].name = raw_input(\"name :\")\n",
    "\trec[x].interval = float(raw_input(\"interval :\"))\n",
    "\trec[x].row_index = int(raw_input(\"row index :\"))\n",
    "\trec[x].col_index = int(raw_input(\"column index :\"))"
   ]
  },
  {
   "cell_type": "code",
   "execution_count": null,
   "metadata": {
    "collapsed": true,
    "deletable": true,
    "editable": true
   },
   "outputs": [],
   "source": [
    "#create vector of Materials\n",
    "n = int(raw_input(\"Give number of Materials :\"))\n",
    "mv = example.MaterialVector(n)\n",
    "for x in range (0,n):\n",
    "\tprint(\"Material \",x+1,\" :\")\n",
    "\tmv[x].name = raw_input(\"name :\")\n",
    "\tmv[x].epsilon_r = float(raw_input(\"epsilon r :\"))\n",
    "\tmv[x].mu_r = float(raw_input(\"mu r :\"))\n",
    "\tmv[x].sigma = float(raw_input(\"sigma :\"))"
   ]
  },
  {
   "cell_type": "code",
   "execution_count": null,
   "metadata": {
    "collapsed": true,
    "deletable": true,
    "editable": true
   },
   "outputs": [],
   "source": [
    "#create vector of Regions\n",
    "n = int(raw_input(\"Give number of Regions :\"))\n",
    "rv = example.RegionVector(n)\n",
    "for x in range (0,n):\n",
    "\tprint(\"Region \",x+1,\" :\")\n",
    "\trv[x].name = raw_input(\"name :\")\n",
    "\trv[x].x_start = float(raw_input(\"start :\"))\n",
    "\trv[x].x_end = float(raw_input(\"end :\"))\n",
    "\trv[x].material_index = int(raw_input(\"material index :\"))"
   ]
  },
  {
   "cell_type": "code",
   "execution_count": null,
   "metadata": {
    "collapsed": true,
    "deletable": true,
    "editable": true
   },
   "outputs": [],
   "source": [
    "#create Device\n",
    "dev = example.Device()\n",
    "dev.name = raw_input(\"Give name of the Device :\")\n",
    "dev.materials = mv\n",
    "dev.regions = rv"
   ]
  },
  {
   "cell_type": "code",
   "execution_count": null,
   "metadata": {
    "collapsed": true,
    "deletable": true,
    "editable": true
   },
   "outputs": [],
   "source": [
    "#create instance of Scenario\n",
    "print(\"Scenario :\")\n",
    "scen = example.Scenario()\n",
    "scen.name = raw_input(\"name :\")\n",
    "scen.total_time = s.total_time\n",
    "scen.timestep = s.timestep\n",
    "scen.records = rec"
   ]
  },
  {
   "cell_type": "code",
   "execution_count": null,
   "metadata": {
    "collapsed": true,
    "deletable": true,
    "editable": true
   },
   "outputs": [],
   "source": [
    "#create Results\n",
    "t = np.linspace(0,s.total_time,s.total_time/s.timestep)\n",
    "result = example.ResultVector(nr)\n",
    "for x in range (0,nr):\n",
    "\tresult[x].name = raw_input(\"Give name of the Result :\")\n",
    "\tr = example.simul(dev, scen)\n",
    "\tresult[x].data = r[0:int(s.total_time/s.timestep)]"
   ]
  },
  {
   "cell_type": "code",
   "execution_count": null,
   "metadata": {
    "collapsed": true,
    "deletable": true,
    "editable": true
   },
   "outputs": [],
   "source": [
    "#save in hdf5 File\n",
    "with h5py.File(\"f.h5\", \"w\") as hdf:\n",
    "\tresultat = hdf.create_group('Resultat')\t\n",
    "\tfor x in range (0,nr):\n",
    "\t\tdataset = resultat.create_dataset(\"data\", data = result[x].data, compression = 'gzip', compression_opts = 9)\n",
    "\t\tdataset.attrs[\"name\"] = result[x].name\n",
    "\tresultat.attrs[\"total time\"] = s.total_time\n",
    "\tresultat.attrs[\"time step\"] = s.timestep\n"
   ]
  },
  {
   "cell_type": "code",
   "execution_count": null,
   "metadata": {
    "collapsed": true,
    "deletable": true,
    "editable": true
   },
   "outputs": [],
   "source": [
    "#load from hdf5 File\n",
    "with h5py.File(\"f.h5\", \"r\") as hdf:\n",
    "\tprint(\"List of datasets in this file : \")\n",
    "\tr = hdf.get('Resultat')\t\n",
    "\tfor i in r.keys():\n",
    "\t\tprint(i)\n",
    "\tdata = r.get(\"data\")\n",
    "\tdataset1 = np.array(data)\n",
    "\tprint('Metadata : ')\n",
    "\tprint(list(r.attrs.keys()))\n",
    "\tprint(list(r.attrs.values()))"
   ]
  },
  {
   "cell_type": "code",
   "execution_count": null,
   "metadata": {
    "collapsed": true,
    "deletable": true,
    "editable": true
   },
   "outputs": [],
   "source": [
    "#plot results\n",
    "for x in range (0,nr):\n",
    "\tplt.plot(t,result[x].data)\n",
    "\tplt.axis([0,5,0,100])\n",
    "\tplt.show()"
   ]
  }
 ],
 "metadata": {
  "kernelspec": {
   "display_name": "Python 2",
   "language": "python",
   "name": "python2"
  },
  "language_info": {
   "codemirror_mode": {
    "name": "ipython",
    "version": 2
   },
   "file_extension": ".py",
   "mimetype": "text/x-python",
   "name": "python",
   "nbconvert_exporter": "python",
   "pygments_lexer": "ipython2",
   "version": "2.7.12"
  }
 },
 "nbformat": 4,
 "nbformat_minor": 2
}
